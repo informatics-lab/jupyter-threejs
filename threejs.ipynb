{
 "cells": [
  {
   "cell_type": "markdown",
   "metadata": {},
   "source": [
    "# Jupyter and three.js\n",
    "In this notebook we will attempt to illustrate the possibility of taking raw climate data and rendering it as part of an interactive 3D visualisation."
   ]
  },
  {
   "cell_type": "markdown",
   "metadata": {},
   "source": [
    "## Data Loading\n",
    "Firstly we load some Met Office data using iris...  \n",
    "We are using a single cube for this demo"
   ]
  },
  {
   "cell_type": "code",
   "execution_count": null,
   "metadata": {
    "collapsed": false
   },
   "outputs": [],
   "source": [
    "import iris\n",
    "data = iris.load(\"./data/precip.nc\")\n",
    "print(data[0])"
   ]
  },
  {
   "cell_type": "markdown",
   "metadata": {},
   "source": [
    "## Data Processing\n",
    "Here we turn our data into a 1 dimensional RGBA array.  \n",
    "To keep things simple, we are only packing data into the red (R) channel for now.  \n",
    "This method of texture building expects a positive integer value in each channel between 0 and 255.  \n",
    "As our data are probabilities between 0 and 1 we can simply map it into the desired range by multiplying each value by 255, then making it an int to remove the decimals."
   ]
  },
  {
   "cell_type": "code",
   "execution_count": null,
   "metadata": {
    "collapsed": false
   },
   "outputs": [],
   "source": [
    "cdata = list(data[0].data.flatten())\n",
    "rgba = []\n",
    "for c in cdata:\n",
    "    r = int(c*255)\n",
    "    b, g, a = 0, 0, 255\n",
    "    rgba += [r, g, b, a]"
   ]
  },
  {
   "cell_type": "markdown",
   "metadata": {},
   "source": [
    "## Data Transfer\n",
    "Here we attach our python array object to the js `window` object and call the new property `data`. This will allow us to use our data inside our javascript functions later on."
   ]
  },
  {
   "cell_type": "code",
   "execution_count": null,
   "metadata": {
    "collapsed": false
   },
   "outputs": [],
   "source": [
    "import json\n",
    "from IPython.display import Javascript\n",
    "\n",
    "javascript = 'window.data={};'.format(json.dumps(rgba))\n",
    "Javascript(javascript)\n"
   ]
  },
  {
   "cell_type": "markdown",
   "metadata": {},
   "source": [
    "## JS Dependencies\n",
    "Here we are loading in our js dependendencies.   \n",
    "Once this is done there will be a global `THREE` object in the scope we can use to build our visualisation.  \n",
    "\n",
    "Not sure why we have to use 2 differing methods but it was the only way we could currently make it work. "
   ]
  },
  {
   "cell_type": "code",
   "execution_count": null,
   "metadata": {
    "collapsed": false
   },
   "outputs": [],
   "source": [
    "%%javascript\n",
    "requirejs.config({\n",
    "    paths: {\n",
    "        T: ['//cdnjs.cloudflare.com/ajax/libs/three.js/r83/three']\n",
    "    }\n",
    "});\n",
    "require(['T'], function(T) {\n",
    "    window.THREE = T;\n",
    "});"
   ]
  },
  {
   "cell_type": "code",
   "execution_count": null,
   "metadata": {
    "collapsed": false
   },
   "outputs": [],
   "source": [
    "%%html\n",
    "<script src=\"https://s3-eu-west-1.amazonaws.com/molab-threejs/OrbitControls.js\" type=\"text/javascript\"></script>"
   ]
  },
  {
   "cell_type": "markdown",
   "metadata": {},
   "source": [
    "## Shaders\n",
    "These are our shaders.\n",
    "They will be used to determine the final appearance of our dataset on the globe."
   ]
  },
  {
   "cell_type": "code",
   "execution_count": 1,
   "metadata": {
    "collapsed": false
   },
   "outputs": [
    {
     "data": {
      "text/html": [
       "\n",
       "<script type=\"x-shader/x-vertex\" id=\"my_vert\">\n",
       "uniform vec2 offset;\n",
       "varying vec2 vUv;\n",
       "\n",
       "void main(){\n",
       "\n",
       "  vUv = uv;\n",
       "\n",
       "  // apply longitude offset\n",
       "  vUv.x = vUv.x + offset.x;\n",
       "  if (vUv.x > 1.0) {\n",
       "    vUv.x = vUv.x - 1.0;\n",
       "  }\n",
       "\n",
       "  gl_Position = projectionMatrix * modelViewMatrix * vec4( position, 1.0 );\n",
       "}\n",
       "</script>\n",
       "\n",
       "<script type=\"x-shader/x-fragment\" id=\"my_frag\">\n",
       "uniform sampler2D dataTexture;\n",
       "uniform vec2 dataShape;\n",
       "uniform sampler2D colorMap;\n",
       "varying vec2 vUv;\n",
       "\n",
       "float remapValueToRange(float val, float low1, float high1, float low2, float high2) {\n",
       "  if (val < 0.1) {\n",
       "    return 0.0;\n",
       "  }\n",
       "  return low2 + (val - low1) * (high2 - low2) / (high1 - low1);\n",
       "}\n",
       "\n",
       "void main() {\n",
       "\n",
       "  float dataValue = texture2D(dataTexture, vUv).r;\n",
       "  vec4 colorLookup = texture2D(colorMap, vec2(dataValue, 0.5));\n",
       "  vec4 color = vec4(colorLookup.r, colorLookup.g, colorLookup.b, remapValueToRange(dataValue, 0.0, 1.0, 0.3, 0.8));\n",
       "  gl_FragColor = color;\n",
       "\n",
       "}\n",
       "</script>"
      ],
      "text/plain": [
       "<IPython.core.display.HTML object>"
      ]
     },
     "metadata": {},
     "output_type": "display_data"
    }
   ],
   "source": [
    "%%html\n",
    "\n",
    "<script type=\"x-shader/x-vertex\" id=\"my_vert\">\n",
    "uniform vec2 offset;\n",
    "varying vec2 vUv;\n",
    "\n",
    "void main(){\n",
    "\n",
    "  vUv = uv;\n",
    "\n",
    "  // apply longitude offset\n",
    "  vUv.x = vUv.x + offset.x;\n",
    "  if (vUv.x > 1.0) {\n",
    "    vUv.x = vUv.x - 1.0;\n",
    "  }\n",
    "\n",
    "  gl_Position = projectionMatrix * modelViewMatrix * vec4( position, 1.0 );\n",
    "}\n",
    "</script>\n",
    "\n",
    "<script type=\"x-shader/x-fragment\" id=\"my_frag\">\n",
    "uniform sampler2D dataTexture;\n",
    "uniform vec2 dataShape;\n",
    "uniform sampler2D colorMap;\n",
    "varying vec2 vUv;\n",
    "\n",
    "float remapValueToRange(float val, float low1, float high1, float low2, float high2) {\n",
    "  if (val < 0.1) {\n",
    "    return 0.0;\n",
    "  }\n",
    "  return low2 + (val - low1) * (high2 - low2) / (high1 - low1);\n",
    "}\n",
    "\n",
    "void main() {\n",
    "\n",
    "  float dataValue = texture2D(dataTexture, vUv).r;\n",
    "  vec4 colorLookup = texture2D(colorMap, vec2(dataValue, 0.5));\n",
    "  vec4 color = vec4(colorLookup.r, colorLookup.g, colorLookup.b, remapValueToRange(dataValue, 0.0, 1.0, 0.3, 0.8));\n",
    "  gl_FragColor = color;\n",
    "\n",
    "}\n",
    "</script>"
   ]
  },
  {
   "cell_type": "markdown",
   "metadata": {},
   "source": [
    "## HTML\n",
    "Here we create our HTML parent element that we will render our graphics inside of."
   ]
  },
  {
   "cell_type": "code",
   "execution_count": null,
   "metadata": {
    "collapsed": false
   },
   "outputs": [],
   "source": [
    "%%javascript\n",
    "element.append(\"<div id='content'></div>\");"
   ]
  },
  {
   "cell_type": "markdown",
   "metadata": {},
   "source": [
    "## JS\n",
    "Our ThreeJS javascript, where the scene and meshes are built."
   ]
  },
  {
   "cell_type": "code",
   "execution_count": null,
   "metadata": {
    "collapsed": false
   },
   "outputs": [],
   "source": [
    "%%javascript\n",
    "\n",
    "(function() {\n",
    "    \n",
    "    var parentDiv = document.getElementById(\"content\");\n",
    "    var controls, camera, scene, ambientLight, directionalLight, renderer;\n",
    "    var textureLoader;\n",
    "    var width = 800;\n",
    "    var height = 400;\n",
    "    \n",
    "    cleanUp();\n",
    "    init();\n",
    "    animate();\n",
    "    \n",
    "    function init(){\n",
    "        textureLoader = new THREE.TextureLoader();\n",
    "        \n",
    "        scene = new THREE.Scene();\n",
    "        \n",
    "        camera = new THREE.PerspectiveCamera( 75, width / height, 0.01, 1000 );\n",
    "        camera.position.z = 2;\n",
    "        \n",
    "        renderer = new THREE.WebGLRenderer({antialias: true});\n",
    "        renderer.setSize(width, height);\n",
    "        renderer.setClearColor('black');\n",
    "        \n",
    "        ambientLight = new THREE.AmbientLight(0xffffff, 0.2); // soft white light\n",
    "        scene.add(ambientLight);\n",
    "        \n",
    "        directionalLight = new THREE.DirectionalLight(0xbbbbbb, 0.8);\n",
    "        directionalLight.position.copy(camera.position);\n",
    "        scene.add(directionalLight);\n",
    "        \n",
    "        // add some controls\n",
    "        controls = new THREE.OrbitControls(camera, renderer.domElement);\n",
    "        controls.enablePan = false;\n",
    "        controls.minDistance = 1.2;\n",
    "        controls.maxDistance = 3;\n",
    "        controls.enableDamping = true;\n",
    "        controls.dampingFactor = 0.15;\n",
    "        controls.rotateSpeed = 0.3;\n",
    "        controls.autoRotate = true;\n",
    "        controls.autoRotateSpeed = 0.2;\n",
    "        // sync camera and directional light so we can see what we're doing!!\n",
    "        controls.addEventListener('change', () => directionalLight.position.copy(camera.position));\n",
    "        \n",
    "        //put stuff on the screen\n",
    "        parentDiv.appendChild( renderer.domElement ) ;\n",
    "        \n",
    "        \n",
    "        addGlobeMesh();\n",
    "        addDataMesh();\n",
    "    }  \n",
    "    \n",
    "    \n",
    "    function animate(time){\n",
    "        window.requestAnimationFrame( animate ); \n",
    "        renderer.render( scene, camera);\n",
    "    }\n",
    "    \n",
    "    \n",
    "    function addGlobeMesh() {\n",
    "        var sat = textureLoader.load('./textures/sat.jpg', texture => texture);\n",
    "        var bump = textureLoader.load('./textures/bump.jpg', texture => texture);\n",
    "        var specular = textureLoader.load('./textures/specular.png', texture => texture);\n",
    "\n",
    "        var geometry = new THREE.SphereGeometry(1, 32, 32);\n",
    "        var material = new THREE.MeshPhongMaterial({\n",
    "          map: sat,\n",
    "          bumpMap: bump,\n",
    "          bumpScale: 0.015,\n",
    "          specularMap: specular,\n",
    "          specular: new THREE.Color('grey'),\n",
    "          shininess: 10\n",
    "        });\n",
    "        var mesh = new THREE.Mesh(geometry, material);\n",
    "\n",
    "        scene.add(mesh);\n",
    "    }\n",
    "    \n",
    "    \n",
    "    function getPyDataTexture() {\n",
    "        var raw = Uint8Array.from(window.data);\n",
    "        var texture = new THREE.DataTexture(raw,800,600,THREE.RGBAFormat);\n",
    "        texture.magFilter = THREE.LinearFilter;\n",
    "        texture.minFilter = THREE.LinearFilter;\n",
    "        texture.needsUpdate = true;\n",
    "        return texture;\n",
    "    }\n",
    "    \n",
    "    function addDataMesh() {\n",
    "        var colorMap = textureLoader.load('./textures/viridis.png', texture => texture);\n",
    "        \n",
    "        var geometry = new THREE.SphereGeometry(1.01, 32, 32);\n",
    "        var material = new THREE.ShaderMaterial({\n",
    "          uniforms: {\n",
    "            offset: {\n",
    "              type: 'v2',\n",
    "              value: new THREE.Vector2(0.5, 0.0)\n",
    "            },\n",
    "            dataTexture: {\n",
    "              type: 't',\n",
    "              value: getPyDataTexture()\n",
    "            },\n",
    "            dataShape: {\n",
    "              type: 'v2',\n",
    "              value: new THREE.Vector2(800, 600)\n",
    "            },\n",
    "            colorMap: {\n",
    "              type: 't',\n",
    "              value: colorMap\n",
    "            }\n",
    "          },\n",
    "          vertexShader: $('#my_vert').text(),\n",
    "          fragmentShader: $('#my_frag').text(),\n",
    "          transparent: true   // required if you want to alter alpha levels in shader\n",
    "        });\n",
    "        var mesh = new THREE.Mesh(geometry, material);\n",
    "        scene.add(mesh);\n",
    "    }\n",
    "    \n",
    "    \n",
    "    function cleanUp() {\n",
    "        if(parentDiv){\n",
    "            while (parentDiv.firstChild) {\n",
    "                parentDiv.removeChild(parentDiv.firstChild);\n",
    "            }\n",
    "        }\n",
    "    }\n",
    "    \n",
    "})();"
   ]
  }
 ],
 "metadata": {
  "kernelspec": {
   "display_name": "Python 2",
   "language": "python",
   "name": "python2"
  },
  "language_info": {
   "codemirror_mode": {
    "name": "ipython",
    "version": 2
   },
   "file_extension": ".py",
   "mimetype": "text/x-python",
   "name": "python",
   "nbconvert_exporter": "python",
   "pygments_lexer": "ipython2",
   "version": "2.7.12"
  }
 },
 "nbformat": 4,
 "nbformat_minor": 1
}
