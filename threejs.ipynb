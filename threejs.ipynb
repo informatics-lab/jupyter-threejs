{
 "cells": [
  {
   "cell_type": "code",
   "execution_count": null,
   "metadata": {
    "collapsed": false
   },
   "outputs": [],
   "source": [
    "import iris\n",
    "\n",
    "data = iris.load(\"./data/precip.nc\")"
   ]
  },
  {
   "cell_type": "code",
   "execution_count": null,
   "metadata": {
    "collapsed": false
   },
   "outputs": [],
   "source": [
    "print(data[0])"
   ]
  },
  {
   "cell_type": "code",
   "execution_count": null,
   "metadata": {
    "collapsed": false
   },
   "outputs": [],
   "source": [
    "cdata = list(data[0].data.flatten())\n",
    "rgba = []\n",
    "for c in cdata:\n",
    "    r = int(c*255)\n",
    "    b, g, a = 0, 0, 255\n",
    "    rgba += [r, g, b, a]"
   ]
  },
  {
   "cell_type": "code",
   "execution_count": null,
   "metadata": {
    "collapsed": false
   },
   "outputs": [],
   "source": [
    "import json\n",
    "from IPython.display import Javascript\n",
    "\n",
    "javascript = 'window.data={};'.format(json.dumps(rgba))\n",
    "Javascript(javascript)\n"
   ]
  },
  {
   "cell_type": "markdown",
   "metadata": {},
   "source": [
    "create html element to render to"
   ]
  },
  {
   "cell_type": "code",
   "execution_count": null,
   "metadata": {
    "collapsed": false
   },
   "outputs": [],
   "source": [
    "%%html\n",
    "<script type=\"x-shader/x-vertex\" id=\"my_vert\">\n",
    "uniform vec2 offset;\n",
    "varying vec2 vUv;\n",
    "\n",
    "void main(){\n",
    "\n",
    "  vUv = uv;\n",
    "\n",
    "  // apply longitude offset\n",
    "  vUv.x = vUv.x + offset.x;\n",
    "  if (vUv.x > 1.0) {\n",
    "    vUv.x = vUv.x - 1.0;\n",
    "  }\n",
    "\n",
    "  gl_Position = projectionMatrix * modelViewMatrix * vec4( position, 1.0 );\n",
    "}\n",
    "</script>\n",
    "<script type=\"x-shader/x-fragment\" id=\"my_frag\">\n",
    "uniform sampler2D dataTexture;\n",
    "uniform vec2 dataShape;\n",
    "uniform sampler2D colorMap;\n",
    "varying vec2 vUv;\n",
    "\n",
    "float remapValueToRange(float val, float low1, float high1, float low2, float high2) {\n",
    "  if (val < 0.1) {\n",
    "    return 0.0;\n",
    "  }\n",
    "  return low2 + (val - low1) * (high2 - low2) / (high1 - low1);\n",
    "}\n",
    "\n",
    "void main() {\n",
    "\n",
    "  float dataValue = texture2D(dataTexture, vUv).r;\n",
    "  vec4 colorLookup = texture2D(colorMap, vec2(dataValue, 0.5));\n",
    "  vec4 color = vec4(colorLookup.r, colorLookup.g, colorLookup.b, remapValueToRange(dataValue, 0.0, 1.0, 0.3, 0.8));\n",
    "  gl_FragColor = color;\n",
    "\n",
    "}\n",
    "</script>"
   ]
  },
  {
   "cell_type": "code",
   "execution_count": null,
   "metadata": {
    "collapsed": false
   },
   "outputs": [],
   "source": [
    "%%javascript\n",
    "element.append(\"<div id='content'></div>\");"
   ]
  },
  {
   "cell_type": "markdown",
   "metadata": {},
   "source": [
    "Import js dependencies and boilerplate three.js code"
   ]
  },
  {
   "cell_type": "code",
   "execution_count": null,
   "metadata": {
    "collapsed": false
   },
   "outputs": [],
   "source": [
    "%%javascript\n",
    "requirejs.config({\n",
    "    paths: { \n",
    "        'T' : ['//cdnjs.cloudflare.com/ajax/libs/three.js/r83/three']\n",
    "    },\n",
    "});\n",
    "require(['T'], function(THREE) {\n",
    "    console.log(THREE);\n",
    "    var parentDiv = document.getElementById(\"content\");\n",
    "    var camera, scene, ambientLight, directionalLight, renderer;\n",
    "    var textureLoader, fileLoader;\n",
    "    var width = 700;\n",
    "    var height = 400;\n",
    "    \n",
    "    cleanUp();\n",
    "    init();\n",
    "    animate();\n",
    "    \n",
    "    function init(){\n",
    "        textureLoader = new THREE.TextureLoader();\n",
    "        fileLoader = new THREE.FileLoader();\n",
    "        \n",
    "        scene = new THREE.Scene();\n",
    "        \n",
    "        camera = new THREE.PerspectiveCamera( 75, width / height, 1, 1000 );\n",
    "        camera.position.z = 2;\n",
    "        \n",
    "        ambientLight = new THREE.AmbientLight(0xffffff, 0.2); // soft white light\n",
    "        scene.add(ambientLight);\n",
    "        \n",
    "        directionalLight = new THREE.DirectionalLight(0xbbbbbb, 0.8);\n",
    "        directionalLight.position.copy(camera.position);\n",
    "        scene.add(directionalLight);\n",
    "        \n",
    "        renderer = new THREE.WebGLRenderer({antialias: true});\n",
    "        renderer.setSize(width, height);\n",
    "        renderer.setClearColor('white');\n",
    "        parentDiv.appendChild( renderer.domElement ) ;\n",
    "        \n",
    "        addGlobeMesh();\n",
    "        addDataMesh();\n",
    "    }  \n",
    "    \n",
    "    \n",
    "    function animate(time){\n",
    "        window.requestAnimationFrame( animate ); \n",
    "        renderer.render( scene, camera);\n",
    "    }\n",
    "    \n",
    "    \n",
    "    function addGlobeMesh() {\n",
    "        var sat = textureLoader.load('./textures/sat.jpg', texture => texture);\n",
    "        var bump = textureLoader.load('./textures/bump.jpg', texture => texture);\n",
    "        var specular = textureLoader.load('./textures/specular.png', texture => texture);\n",
    "\n",
    "        var geometry = new THREE.SphereGeometry(1, 32, 32);\n",
    "        var material = new THREE.MeshPhongMaterial({\n",
    "          map: sat,\n",
    "          bumpMap: bump,\n",
    "          bumpScale: 0.015,\n",
    "          specularMap: specular,\n",
    "          specular: new THREE.Color('grey'),\n",
    "          shininess: 10\n",
    "        });\n",
    "        var mesh = new THREE.Mesh(geometry, material);\n",
    "\n",
    "        scene.add(mesh);\n",
    "    }\n",
    "    \n",
    "    \n",
    "    function getPyDataTexture() {\n",
    "        var raw = Uint8Array.from(window.data);\n",
    "        var texture = new THREE.DataTexture(raw,800,600,THREE.RGBAFormat);\n",
    "        texture.magFilter = THREE.LinearFilter;\n",
    "        texture.minFilter = THREE.LinearFilter;\n",
    "        texture.needsUpdate = true;\n",
    "        return texture;\n",
    "    }\n",
    "    \n",
    "    function addDataMesh() {\n",
    "        var colorMap = textureLoader.load('./textures/viridis.png', texture => texture);\n",
    "        \n",
    "        var geometry = new THREE.SphereGeometry(1.01, 32, 32);\n",
    "        var material = new THREE.ShaderMaterial({\n",
    "          uniforms: {\n",
    "            offset: {\n",
    "              type: 'v2',\n",
    "              value: new THREE.Vector2(0.5, 0.0)\n",
    "            },\n",
    "            dataTexture: {\n",
    "              type: 't',\n",
    "              value: getPyDataTexture()\n",
    "            },\n",
    "            dataShape: {\n",
    "              type: 'v2',\n",
    "              value: new THREE.Vector2(800, 600)\n",
    "            },\n",
    "            colorMap: {\n",
    "              type: 't',\n",
    "              value: colorMap\n",
    "            }\n",
    "          },\n",
    "          vertexShader: $('#my_vert').text(),\n",
    "          fragmentShader: $('#my_frag').text(),\n",
    "          transparent: true   // required if you want to alter alpha levels in shader\n",
    "        });\n",
    "        var mesh = new THREE.Mesh(geometry, material);\n",
    "        scene.add(mesh);\n",
    "    }\n",
    "    \n",
    "    \n",
    "    function cleanUp() {\n",
    "        while (parentDiv.firstChild) {\n",
    "            parentDiv.removeChild(parentDiv.firstChild);\n",
    "        }\n",
    "    }\n",
    "    \n",
    "});"
   ]
  },
  {
   "cell_type": "code",
   "execution_count": null,
   "metadata": {
    "collapsed": false
   },
   "outputs": [],
   "source": []
  },
  {
   "cell_type": "code",
   "execution_count": null,
   "metadata": {
    "collapsed": true
   },
   "outputs": [],
   "source": []
  }
 ],
 "metadata": {
  "kernelspec": {
   "display_name": "Python 2",
   "language": "python",
   "name": "python2"
  },
  "language_info": {
   "codemirror_mode": {
    "name": "ipython",
    "version": 2
   },
   "file_extension": ".py",
   "mimetype": "text/x-python",
   "name": "python",
   "nbconvert_exporter": "python",
   "pygments_lexer": "ipython2",
   "version": "2.7.12"
  }
 },
 "nbformat": 4,
 "nbformat_minor": 1
}
